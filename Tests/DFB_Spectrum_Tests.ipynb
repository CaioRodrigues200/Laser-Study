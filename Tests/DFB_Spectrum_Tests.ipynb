{
 "cells": [
  {
   "cell_type": "code",
   "execution_count": 6,
   "metadata": {},
   "outputs": [],
   "source": [
    "import matplotlib.pyplot as plt\n",
    "import random\n",
    "import numpy as np\n",
    "\n",
    "from commpy.utilities  import upsample\n",
    "from optic.dsp.core import firFilter, pulseShape, signal_power\n",
    "from optic.utils import parameters\n",
    "from optic.models.amplification import get_spectrum\n",
    "from optic.models.devices import basicLaserModel\n",
    "import scipy.signal as signal\n",
    "from scipy.ndimage import shift"
   ]
  },
  {
   "cell_type": "code",
   "execution_count": 7,
   "metadata": {},
   "outputs": [],
   "source": [
    "import os\n",
    "import sys\n",
    "sys.path.append('..\\Functions')\n",
    "\n",
    "from laser_dfb import *\n",
    "from AuxiliaryFunctions import *\n",
    "\n",
    "from IPython.core.display import HTML\n",
    "from IPython.core.pylabtools import figsize\n",
    "\n",
    "HTML(\"\"\"\n",
    "<style>\n",
    ".output_png {\n",
    "    display: table-cell;\n",
    "    text-align: center;\n",
    "    vertical-align: middle;\n",
    "}\n",
    "</style>\n",
    "\"\"\")\n",
    "\n",
    "figsize(9,6)\n",
    "plt.style.use('bmh')\n",
    "\n",
    "laser_dfb_parameters = parameters()"
   ]
  },
  {
   "cell_type": "markdown",
   "metadata": {},
   "source": [
    "# DFB Parameters"
   ]
  },
  {
   "cell_type": "code",
   "execution_count": 3,
   "metadata": {},
   "outputs": [],
   "source": [
    "# Espeyear thesis.\n",
    "laser_dfb_parameters.noise_terms = False\n",
    "laser_dfb_parameters.v       = 1.5e-10   # [cm3]  active layer volume\n",
    "laser_dfb_parameters.tau_n   = 1.0e-9    # [s]    electron lifetime\n",
    "laser_dfb_parameters.a0      = 2.5e-16   # [cm2]  active layer gain coefficient\n",
    "laser_dfb_parameters.vg      = 8.5e+9    # [cm/s] group velocity\n",
    "laser_dfb_parameters.n_t     = 1e18      # [cm-1] carrier density at transparency\n",
    "laser_dfb_parameters.epsilon = 1e-17     # [cm3] gain compression factor\n",
    "laser_dfb_parameters.tau_p   = 3e-12     # [s] photon lifetime\n",
    "laser_dfb_parameters.gamma   = 0.4       # mode confinement factor\n",
    "laser_dfb_parameters.beta    = 3e-5      # fraction of spontaneous emission coupling\n",
    "laser_dfb_parameters.alpha   = 5         # linewidth enchancement factor\n",
    "laser_dfb_parameters.sigma   = 2e-20     # gain cross section\n",
    "laser_dfb_parameters.i_bias  = 0.03886   # [A] i_bias\n",
    "laser_dfb_parameters.i_max   = 0.02312   # [A] i_max\n",
    "laser_dfb_parameters.eta_0   = 0.4       # total differential quantum efficiency\n",
    "laser_dfb_parameters.lmbd    = 1540e-9   # [m] wavelength"
   ]
  },
  {
   "cell_type": "code",
   "execution_count": null,
   "metadata": {},
   "outputs": [
    {
     "name": "stdout",
     "output_type": "stream",
     "text": [
      "Sampling Frequency = 63.99999999999999 GSamples/s\n"
     ]
    }
   ],
   "source": [
    "# simulation parameters\n",
    "SpS = 128\n",
    "Rs = 0.5e9   # Symbol rate (for OOK case Rs = Rb)\n",
    "Tsymb = 1/Rs # Symbol period in seconds\n",
    "Fs = 1/(Tsymb/SpS) # Signal sampling frequency (samples/second)\n",
    "Ts = 1/Fs # Sampling period\n",
    "print(f'Sampling Frequency = {Fs*1e-9} GSamples/s')"
   ]
  }
 ],
 "metadata": {
  "kernelspec": {
   "display_name": "TCCvenv",
   "language": "python",
   "name": "python3"
  },
  "language_info": {
   "codemirror_mode": {
    "name": "ipython",
    "version": 3
   },
   "file_extension": ".py",
   "mimetype": "text/x-python",
   "name": "python",
   "nbconvert_exporter": "python",
   "pygments_lexer": "ipython3",
   "version": "3.9.13"
  }
 },
 "nbformat": 4,
 "nbformat_minor": 2
}
