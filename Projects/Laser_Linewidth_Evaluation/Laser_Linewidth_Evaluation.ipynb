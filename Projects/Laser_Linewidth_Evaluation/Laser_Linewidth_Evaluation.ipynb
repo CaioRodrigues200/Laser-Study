{
 "cells": [
  {
   "cell_type": "markdown",
   "metadata": {},
   "source": [
    "# Laser Linewidth and Phase Noise Evaluation\n",
    "\n",
    "This notebook focuses on metodologies presented in the work: \n",
    "\n",
    "[Laser Linewidth and Phase Noise Evaluation Using Heterodyne Offline Signal Processing (2016)](https://ieeexplore.ieee.org/document/7529227)"
   ]
  },
  {
   "cell_type": "code",
   "execution_count": 71,
   "metadata": {},
   "outputs": [],
   "source": [
    "import numpy as np\n",
    "import matplotlib.pyplot as plt\n",
    "import os\n",
    "from optic.models.devices import photodiode, basicLaserModel\n",
    "from optic.dsp.core import phaseNoise\n",
    "from optic.models.amplification import OSA, get_spectrum\n",
    "from optic.utils import parameters\n",
    "from optic.plot import plotPSD\n",
    "from scipy.constants import c\n",
    "from scipy.signal import hilbert\n",
    "from IPython.display import display, Math\n",
    "\n",
    "fontSmall = {'family':'serif', 'weight':'normal', 'size':12}\n",
    "font = {'family':'serif', 'weight':'normal', 'size':16}\n",
    "fontTitle = {'family':'serif', 'weight':'normal', 'size':20}"
   ]
  }
 ],
 "metadata": {
  "kernelspec": {
   "display_name": "TCCvenv",
   "language": "python",
   "name": "python3"
  },
  "language_info": {
   "codemirror_mode": {
    "name": "ipython",
    "version": 3
   },
   "file_extension": ".py",
   "mimetype": "text/x-python",
   "name": "python",
   "nbconvert_exporter": "python",
   "pygments_lexer": "ipython3",
   "version": "3.9.13"
  }
 },
 "nbformat": 4,
 "nbformat_minor": 2
}
